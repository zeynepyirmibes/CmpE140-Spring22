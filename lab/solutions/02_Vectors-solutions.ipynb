{
 "cells": [
  {
   "cell_type": "code",
   "execution_count": null,
   "metadata": {},
   "outputs": [],
   "source": [
    "options(jupyter.rich_display = FALSE)"
   ]
  },
  {
   "cell_type": "markdown",
   "metadata": {},
   "source": [
    "# LAB 02 - VECTORS"
   ]
  },
  {
   "cell_type": "markdown",
   "metadata": {},
   "source": [
    "## Warm Up"
   ]
  },
  {
   "cell_type": "markdown",
   "metadata": {},
   "source": [
    "Given the variables\n",
    "\n",
    "```r\n",
    "account_balance <- 1000\n",
    "interest_rate <-  0.10\n",
    "```\n",
    " \n",
    " update the variable **account_balance** by adding the interest and print the updated value."
   ]
  },
  {
   "cell_type": "code",
   "execution_count": null,
   "metadata": {},
   "outputs": [],
   "source": [
    "# write your code lines below\n",
    "\n",
    "account_balance <- 1000\n",
    "interest_rate <- 0.10\n",
    "\n",
    "account_balance <- account_balance + (account_balance * 0.10)\n",
    "account_balance \n",
    "\n",
    "# end of your code"
   ]
  },
  {
   "cell_type": "markdown",
   "metadata": {},
   "source": [
    "An employee wants to calculate the raise in dollar amount and in percent (%) she got last week. \n",
    "\n",
    "```r\n",
    "previous_salary <- 5000\n",
    "current_salary <- 5200\n",
    "```\n",
    "\n",
    "show the raise (in dollars) and (in percent)."
   ]
  },
  {
   "cell_type": "code",
   "execution_count": null,
   "metadata": {
    "scrolled": true
   },
   "outputs": [],
   "source": [
    "previous_salary <- 5000\n",
    "current_salary <- 5200\n",
    "\n",
    "raise_indollars <- current_salary - previous_salary\n",
    "raise_inpercent <- (raise_indollars/previous_salary) * 100\n",
    "\n",
    "raise_indollars\n",
    "raise_inpercent"
   ]
  },
  {
   "cell_type": "markdown",
   "metadata": {},
   "source": [
    "#  Vectors"
   ]
  },
  {
   "cell_type": "markdown",
   "metadata": {},
   "source": [
    "## Initialization, Arithmetics & Functions"
   ]
  },
  {
   "cell_type": "markdown",
   "metadata": {},
   "source": [
    "Let's initalize two vectors where **A** has 4, 6, 7 and **B** has 2, 14, 9.\n",
    "\n",
    "Find the the results for: \n",
    "\n",
    "```r\n",
    "A + B, \n",
    "A - B, \n",
    "A * B, \n",
    "A / B, \n",
    "2 * (A + B) - 3\n",
    "```"
   ]
  },
  {
   "cell_type": "code",
   "execution_count": null,
   "metadata": {},
   "outputs": [],
   "source": [
    "# write your code lines below\n",
    "\n",
    "A <- c(4, 6, 7)\n",
    "B <- c(2, 14, 9)\n",
    "\n",
    "A + B\n",
    "A - B\n",
    "A * B\n",
    "A / B\n",
    "2 * (A + B) - 3\n",
    "\n",
    "# end of your code"
   ]
  },
  {
   "cell_type": "markdown",
   "metadata": {},
   "source": [
    "Let's initialize vector **C** with values 5, 8, 11, 5, 2, 1\n",
    "\n",
    "Find the results for:\n",
    "\n",
    "```r\n",
    "C > A\n",
    "C + A\n",
    "C + (B * 3)\n",
    "```"
   ]
  },
  {
   "cell_type": "code",
   "execution_count": null,
   "metadata": {},
   "outputs": [],
   "source": [
    "# write your code lines below\n",
    "C <- c(5, 8, 11, 5, 2, 1)\n",
    "\n",
    "C > A\n",
    "C + A\n",
    "C + (B *3)\n",
    "# end of your code"
   ]
  },
  {
   "cell_type": "markdown",
   "metadata": {},
   "source": [
    "Let's:\n",
    "\n",
    " 1. add up all elements in **A**\n",
    " 2. multiply all elements in **B**\n",
    "\n",
    "_(hint: use built-in functions, `sum()` and `prod()`)_"
   ]
  },
  {
   "cell_type": "code",
   "execution_count": null,
   "metadata": {},
   "outputs": [],
   "source": [
    "# write your code lines below\n",
    "A\n",
    "sum(A)\n",
    "cumsum(A)\n",
    "\n",
    "B\n",
    "prod(B)\n",
    "cumprod(B)\n",
    "# end of your code"
   ]
  },
  {
   "cell_type": "markdown",
   "metadata": {},
   "source": [
    "## Vector Indexing"
   ]
  },
  {
   "cell_type": "markdown",
   "metadata": {},
   "source": [
    "Let's initialize vector for the **students** of Beacon Hills High School (Jason, Lydia, Scott and Stiles) and print the vector."
   ]
  },
  {
   "cell_type": "code",
   "execution_count": null,
   "metadata": {},
   "outputs": [],
   "source": [
    "# write your code lines below\n",
    "\n",
    "students <- c(\"Jason\", \"Lydia\", \"Scott\", \"Stiles\")\n",
    "students\n",
    "\n",
    "students \n",
    "# end of your code"
   ]
  },
  {
   "cell_type": "markdown",
   "metadata": {},
   "source": [
    "Then add a new transfer student **\"Allison\"** to the vector and print the updated vector."
   ]
  },
  {
   "cell_type": "code",
   "execution_count": null,
   "metadata": {},
   "outputs": [],
   "source": [
    "# write your code lines below\n",
    "\n",
    "students <- c(students, \"Allison\")\n",
    "students\n",
    "# end of your code"
   ]
  },
  {
   "cell_type": "markdown",
   "metadata": {},
   "source": [
    "Finally show the number of students.\n",
    "\n",
    "_Hint: You can use `length()` function_"
   ]
  },
  {
   "cell_type": "code",
   "execution_count": null,
   "metadata": {},
   "outputs": [],
   "source": [
    "# write your code lines below\n",
    "\n",
    "length(students)\n",
    "\n",
    "# end of your code"
   ]
  },
  {
   "cell_type": "markdown",
   "metadata": {},
   "source": [
    "Now, let's list the students:\n",
    "\n",
    " 1. 1st student\n",
    " 2. 3rd student \n",
    " 3. 2nd and 4th students\n",
    " 4. from 2nd to 4th student"
   ]
  },
  {
   "cell_type": "code",
   "execution_count": null,
   "metadata": {},
   "outputs": [],
   "source": [
    "# write your code lines below\n",
    "\n",
    "students[1]\n",
    "students[3]\n",
    "students[c(2,4)]\n",
    "students[2:4]\n",
    "\n",
    "# end of your code"
   ]
  },
  {
   "cell_type": "markdown",
   "metadata": {},
   "source": [
    "Now, list the students by excluding: \n",
    " \n",
    " 1. 5th student\n",
    " 2. 2nd and 3rd students"
   ]
  },
  {
   "cell_type": "code",
   "execution_count": null,
   "metadata": {},
   "outputs": [],
   "source": [
    "# write your code lines below\n",
    "\n",
    "students[-5]\n",
    "students[c(-2, -3)]\n",
    "\n",
    "# end of your code"
   ]
  },
  {
   "cell_type": "markdown",
   "metadata": {},
   "source": [
    "use `TRUE` and `FALSE` statements to list the students:\n",
    "\n",
    " - 2nd and 4th students"
   ]
  },
  {
   "cell_type": "code",
   "execution_count": null,
   "metadata": {},
   "outputs": [],
   "source": [
    "# write your code lines below\n",
    "students[c(F,T,F,T,F)]\n",
    "# OR\n",
    "students[c(F,T)]\n",
    "# end of your code"
   ]
  },
  {
   "cell_type": "markdown",
   "metadata": {},
   "source": [
    "## Named vectors"
   ]
  },
  {
   "cell_type": "markdown",
   "metadata": {},
   "source": [
    "Let's create a new \n",
    "vector for the grades of the students in Beacon Hills High for the subject Math.\n",
    "\n",
    "|Name|Grade|\n",
    "|:---|:---:|\n",
    "|Jason|46|\n",
    "|Lydia|98|\n",
    "|Scott|51|\n",
    "|Stiles|84|\n",
    "|Allison|unknown (because she just transferred)|\n",
    "\n",
    "_Hint: You can use `names()` to assign names to a vector_"
   ]
  },
  {
   "cell_type": "code",
   "execution_count": null,
   "metadata": {},
   "outputs": [],
   "source": [
    "# write your code lines below\n",
    "\n",
    "#grades <- c(Jason=46, Lydia = 98, Scott = 51, Stiles = 84, Allison = NA)\n",
    "#grades\n",
    "\n",
    "grades <- c(46, 98, 51, 84, NA)\n",
    "people <- c(\"Jason\", \"Lydia\", \"Scott\", \"Stiles\", \"Allison\")\n",
    "\n",
    "names(grades) <- people\n",
    "\n",
    "grades\n",
    "people\n",
    "# end of your code"
   ]
  },
  {
   "cell_type": "markdown",
   "metadata": {},
   "source": [
    "Now retrieve the grades of **Stiles** and **Scott**."
   ]
  },
  {
   "cell_type": "code",
   "execution_count": null,
   "metadata": {},
   "outputs": [],
   "source": [
    "# write your code lines below\n",
    "\n",
    "grades[3]\n",
    "grades[\"Scott\"]\n",
    "\n",
    "grades[c(\"Scott\", \"Stiles\")]\n",
    "# end of your code"
   ]
  },
  {
   "cell_type": "markdown",
   "metadata": {},
   "source": [
    "Let's assign a grade for **\"Allison\"** now that she took her first Math exam in Beacon Hills High which is **76**.\n",
    "\n",
    "Show the grades vector **before** and **after** updating Allison's grade."
   ]
  },
  {
   "cell_type": "code",
   "execution_count": null,
   "metadata": {},
   "outputs": [],
   "source": [
    "# write your code lines below\n",
    "grades\n",
    "grades[\"Allison\"] <- 76\n",
    "grades\n",
    "# end of your code"
   ]
  },
  {
   "cell_type": "markdown",
   "metadata": {},
   "source": [
    "Now, let's find out the students that got grades **higher than 60** and their grades.\n"
   ]
  },
  {
   "cell_type": "code",
   "execution_count": null,
   "metadata": {},
   "outputs": [],
   "source": [
    "# write your code lines below\n",
    "\n",
    "grades > 60\n",
    "\n",
    "grades[grades>60]\n",
    "\n",
    "# end of your code"
   ]
  },
  {
   "cell_type": "markdown",
   "metadata": {},
   "source": [
    "Suddenly, Math Proffessor decides to add up **5** points to students whose grades are lower than **60** for the sake of motivation for the next exam.\n",
    "\n",
    "Show grades vector before and after updating it  accordingly."
   ]
  },
  {
   "cell_type": "code",
   "execution_count": null,
   "metadata": {},
   "outputs": [],
   "source": [
    "# write your code lines below\n",
    "grades\n",
    "grades[grades<60] <- grades[grades<60] + 5\n",
    "grades\n",
    "\n",
    "# end of your code"
   ]
  },
  {
   "cell_type": "markdown",
   "metadata": {},
   "source": [
    "Now Let's try to sort the grades vector in descending order.\n",
    "\n",
    "_Hint: We will use another built-in function, `sort()`_"
   ]
  },
  {
   "cell_type": "code",
   "execution_count": null,
   "metadata": {},
   "outputs": [],
   "source": [
    "# write your code lines below\n",
    "\n",
    "sort(grades)\n",
    "sort(grades, decreasing=TRUE)\n",
    "grades\n",
    "\n",
    "#grades <- sort(grades, decreasing=TRUE)\n",
    "grades\n",
    "# end of your code"
   ]
  },
  {
   "cell_type": "markdown",
   "metadata": {},
   "source": [
    "How about sorting grades vector based on students desk numbers?\n",
    "\n",
    "First create a new vector for desk numbers.\n",
    "\n",
    "|Name|desk number|\n",
    "|:---|:---:|\n",
    "|Jason|2|\n",
    "|Lydia|1|\n",
    "|Scott|5|\n",
    "|Stiles|5|\n",
    "|Allison|3|\n",
    "\n",
    "Then use this new vector to sort **grades** vector.\n",
    "\n",
    "_Hint: Use `order()` function._"
   ]
  },
  {
   "cell_type": "code",
   "execution_count": null,
   "metadata": {},
   "outputs": [],
   "source": [
    "# write your code lines below\n",
    "\n",
    "desk_numbers <- c(Jason=2, Lydia=1, Scott=5, Stiles = 5, Allison = 3)\n",
    "\n",
    "order(desk_numbers)\n",
    "desk_numbers\n",
    "grades[order(desk_numbers)]\n",
    "\n",
    "# end of your code"
   ]
  },
  {
   "cell_type": "markdown",
   "metadata": {},
   "source": [
    "Finally, let's remove **Scott** from the grades vector, because he decides to be a wanderer werewolf - no longer a student.\n",
    "\n",
    "Show grades vector before and after removing **Scott**."
   ]
  },
  {
   "cell_type": "code",
   "execution_count": null,
   "metadata": {},
   "outputs": [],
   "source": [
    "# write your code lines below\n",
    "grades\n",
    "grades <- grades[-3] #[\"Scott\"]\n",
    "grades\n",
    "# end of your code"
   ]
  },
  {
   "cell_type": "markdown",
   "metadata": {},
   "source": [
    "## Generating sequences"
   ]
  },
  {
   "cell_type": "markdown",
   "metadata": {},
   "source": [
    "Create and store a sequence of values from 25 to 90 (increase by 1) by:\n",
    "\n",
    "Use `seq()` function and `:` operator"
   ]
  },
  {
   "cell_type": "code",
   "execution_count": null,
   "metadata": {},
   "outputs": [],
   "source": [
    "# write your code lines below\n",
    "\n",
    "s1 <- seq(25, 90, 1)\n",
    "s2 <- 25:90\n",
    "\n",
    "s1\n",
    "s2\n",
    "\n",
    "# end of your code"
   ]
  },
  {
   "cell_type": "markdown",
   "metadata": {},
   "source": [
    "Create and store a sequence of values from 5 to −11 that progresses in steps of 0.3."
   ]
  },
  {
   "cell_type": "code",
   "execution_count": null,
   "metadata": {},
   "outputs": [],
   "source": [
    "# write your code lines below\n",
    "\n",
    "s3 <- seq(from=5, to=-11, by=-0.3)\n",
    "s3\n",
    "\n",
    "# end of your code"
   ]
  },
  {
   "cell_type": "markdown",
   "metadata": {},
   "source": [
    "## Exercises from Lecture"
   ]
  },
  {
   "cell_type": "markdown",
   "metadata": {},
   "source": [
    "A set of temperature measurements are given in Fahrenheit scale as follows:\n",
    "\n",
    "```r\n",
    "    temperatures <- c(87, 89, 101, 91, 86, 71, 76)\n",
    "```\n",
    "\n",
    "Convert these measurements to Celsius scale."
   ]
  },
  {
   "cell_type": "code",
   "execution_count": null,
   "metadata": {},
   "outputs": [],
   "source": [
    "# write your code lines below\n",
    "\n",
    "# T(°C) = (T(°F) - 32) / 1.8\n",
    "temperatures <- c(87, 89, 101, 91, 86, 71, 76)\n",
    "celcius <- (temperatures - 32 ) / 1.8\n",
    "\n",
    "celcius\n",
    "\n",
    "# end of your code"
   ]
  },
  {
   "cell_type": "markdown",
   "metadata": {},
   "source": [
    "Consider the following data\n",
    "\n",
    "|Country|Area|Population|\n",
    "|------|------|------|\n",
    "|Russia|17,098,242|142,257,519|\n",
    "|United States|9,833,517|326,625,791|\n",
    "|China|9,596,960|1,379,302,771|                                    \n",
    "|Brazil|8,515,770|207,353,391|                \n",
    "|Australia|7,741,220|23,232,413|\n",
    "|India|3,287,263|1,281,935,911|\n",
    "|Turkey|783,562|80,845,215|\n",
    "|France|643,801|67,106,161|\n",
    "|Japan|377,915|126,451,398|\n",
    "|United Kingdom|243,610|65,648,100|\n",
    "\n",
    "1. Create two vectors **area** and **population** that hold the data in the respective columns. Label the elements in each vector with the country name.\n",
    "\n",
    "2. Create a new vector called **density** that holds the population density of the countries.\n",
    "\n",
    "3. Print the names of countries sorted by population density, in descending order (from highest to lowest)."
   ]
  },
  {
   "cell_type": "code",
   "execution_count": null,
   "metadata": {},
   "outputs": [],
   "source": [
    "# write your code lines below\n",
    "\n",
    "# 1\n",
    "area <- c(Russia=17098242, UnitedStates=9833517, China=9596960,\n",
    "          Brazil=8515770, Australia=7741220, India=3287263,\n",
    "          Turkey=783562, Japan=377915, UnitedKingdom=243610)\n",
    "\n",
    "\n",
    "population <- c(Russia=142257519, UnitedStates=326625791, China=1379302771,\n",
    "                Brazil=207353391, Australia=23232413, India=1281935911,\n",
    "                Turkey=80845215, Japan=126451398,  UnitedKingdom=65648100)\n",
    "\n",
    "# 2\n",
    "\n",
    "density <- population / area\n",
    "density\n",
    "\n",
    "# 3\n",
    "\n",
    "sort(density, decreasing=TRUE)\n",
    "names(sort(density, decreasing=TRUE))\n",
    "\n",
    "# end of your code"
   ]
  }
 ],
 "metadata": {
  "kernelspec": {
   "display_name": "R",
   "language": "R",
   "name": "ir"
  },
  "language_info": {
   "codemirror_mode": "r",
   "file_extension": ".r",
   "mimetype": "text/x-r-source",
   "name": "R",
   "pygments_lexer": "r",
   "version": "3.6.1"
  },
  "toc": {
   "nav_menu": {},
   "number_sections": true,
   "sideBar": true,
   "skip_h1_title": false,
   "title_cell": "Table of Contents",
   "title_sidebar": "Contents",
   "toc_cell": false,
   "toc_position": {},
   "toc_section_display": true,
   "toc_window_display": false
  },
  "varInspector": {
   "cols": {
    "lenName": 16,
    "lenType": 16,
    "lenVar": 40
   },
   "kernels_config": {
    "python": {
     "delete_cmd_postfix": "",
     "delete_cmd_prefix": "del ",
     "library": "var_list.py",
     "varRefreshCmd": "print(var_dic_list())"
    },
    "r": {
     "delete_cmd_postfix": ") ",
     "delete_cmd_prefix": "rm(",
     "library": "var_list.r",
     "varRefreshCmd": "cat(var_dic_list()) "
    }
   },
   "types_to_exclude": [
    "module",
    "function",
    "builtin_function_or_method",
    "instance",
    "_Feature"
   ],
   "window_display": false
  }
 },
 "nbformat": 4,
 "nbformat_minor": 2
}
