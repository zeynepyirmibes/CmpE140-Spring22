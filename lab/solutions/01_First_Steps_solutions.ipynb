{
 "cells": [
  {
   "cell_type": "markdown",
   "metadata": {},
   "source": [
    "# First steps in R"
   ]
  },
  {
   "cell_type": "markdown",
   "metadata": {
    "slideshow": {
     "slide_type": "slide"
    }
   },
   "source": [
    "### Lab Exercise 1\n",
    "\n",
    "Given the variables\n",
    "\n",
    "    A <- 13\n",
    "    B <- 27\n",
    "    C <- 14\n",
    "\n",
    "find the sum, mean and product of the three numbers. "
   ]
  },
  {
   "cell_type": "code",
   "execution_count": 1,
   "metadata": {},
   "outputs": [
    {
     "data": {
      "text/html": [
       "54"
      ],
      "text/latex": [
       "54"
      ],
      "text/markdown": [
       "54"
      ],
      "text/plain": [
       "[1] 54"
      ]
     },
     "metadata": {},
     "output_type": "display_data"
    },
    {
     "data": {
      "text/html": [
       "18"
      ],
      "text/latex": [
       "18"
      ],
      "text/markdown": [
       "18"
      ],
      "text/plain": [
       "[1] 18"
      ]
     },
     "metadata": {},
     "output_type": "display_data"
    },
    {
     "data": {
      "text/html": [
       "4914"
      ],
      "text/latex": [
       "4914"
      ],
      "text/markdown": [
       "4914"
      ],
      "text/plain": [
       "[1] 4914"
      ]
     },
     "metadata": {},
     "output_type": "display_data"
    }
   ],
   "source": [
    "A <- 13\n",
    "B <- 27\n",
    "C <- 14\n",
    "\n",
    "sum <- A + B + C\n",
    "mean <- sum / 3\n",
    "product <- A * B * C\n",
    "\n",
    "sum\n",
    "mean\n",
    "product"
   ]
  },
  {
   "cell_type": "markdown",
   "metadata": {},
   "source": [
    "### Lab Exercise 2\n",
    "\n",
    "Given the variables\n",
    "\n",
    "    num1 <- 13\n",
    "    num2 <- 5\n",
    "\n",
    "find the difference, power and remainder of the two numbers. "
   ]
  },
  {
   "cell_type": "code",
   "execution_count": 9,
   "metadata": {},
   "outputs": [
    {
     "data": {
      "text/html": [
       "8"
      ],
      "text/latex": [
       "8"
      ],
      "text/markdown": [
       "8"
      ],
      "text/plain": [
       "[1] 8"
      ]
     },
     "metadata": {},
     "output_type": "display_data"
    },
    {
     "data": {
      "text/html": [
       "371293"
      ],
      "text/latex": [
       "371293"
      ],
      "text/markdown": [
       "371293"
      ],
      "text/plain": [
       "[1] 371293"
      ]
     },
     "metadata": {},
     "output_type": "display_data"
    },
    {
     "data": {
      "text/html": [
       "3"
      ],
      "text/latex": [
       "3"
      ],
      "text/markdown": [
       "3"
      ],
      "text/plain": [
       "[1] 3"
      ]
     },
     "metadata": {},
     "output_type": "display_data"
    }
   ],
   "source": [
    "num1 <- 13\n",
    "num2 <- 5\n",
    "\n",
    "diff <- num1 - num2\n",
    "power <- num1 ^ num2\n",
    "remainder <- num1 %% num2\n",
    "\n",
    "diff\n",
    "power\n",
    "remainder"
   ]
  },
  {
   "cell_type": "markdown",
   "metadata": {},
   "source": [
    "### Lab Exercise 3\n",
    "\n",
    "Using the formula below of compound interest, take the principal amount (A), interest rate (i) (per month) and duration (n) (months) and print the final amount.\n",
    "\n",
    "<img src=\"https://render.githubusercontent.com/render/math?math=\\large S = A * (1 %2B i/100)^{n}\">\n",
    "\n",
    "| Input     | Output  |\n",
    "| --------- | ------- |\n",
    "| 1000 12 5 | 1762.34 |\n",
    "| 500 12 5  | 881.17  |"
   ]
  },
  {
   "cell_type": "code",
   "execution_count": 10,
   "metadata": {},
   "outputs": [
    {
     "data": {
      "text/html": [
       "1762.3416832"
      ],
      "text/latex": [
       "1762.3416832"
      ],
      "text/markdown": [
       "1762.3416832"
      ],
      "text/plain": [
       "[1] 1762.342"
      ]
     },
     "metadata": {},
     "output_type": "display_data"
    }
   ],
   "source": [
    "A <- 1000\n",
    "i <- 12\n",
    "n <- 5\n",
    "\n",
    "S <- A * (1 + i / 100) ^ n\n",
    "S"
   ]
  },
  {
   "cell_type": "markdown",
   "metadata": {},
   "source": [
    "### Lab Exercise 4\n",
    "\n",
    "How many seconds are there in 5 years, 2 months, 4 days, 3 hours and 2 minutes?\n",
    "\n",
    "* 1 year = 365 days\n",
    "* 1 month = 30 days"
   ]
  },
  {
   "cell_type": "code",
   "execution_count": 11,
   "metadata": {},
   "outputs": [
    {
     "data": {
      "text/html": [
       "163220520"
      ],
      "text/latex": [
       "163220520"
      ],
      "text/markdown": [
       "163220520"
      ],
      "text/plain": [
       "[1] 163220520"
      ]
     },
     "metadata": {},
     "output_type": "display_data"
    }
   ],
   "source": [
    "years <- 5\n",
    "months <- 2\n",
    "days <- 4\n",
    "hours <- 3\n",
    "minutes <- 2\n",
    "\n",
    "total_days <- years * 365 + months * 30 + days\n",
    "total_hours <- total_days * 24 + hours\n",
    "total_minutes <- total_hours * 60 + minutes\n",
    "total_seconds <- total_minutes * 60\n",
    "\n",
    "total_seconds"
   ]
  },
  {
   "cell_type": "code",
   "execution_count": null,
   "metadata": {},
   "outputs": [],
   "source": []
  }
 ],
 "metadata": {
  "kernelspec": {
   "display_name": "R",
   "language": "R",
   "name": "ir"
  },
  "language_info": {
   "codemirror_mode": "r",
   "file_extension": ".r",
   "mimetype": "text/x-r-source",
   "name": "R",
   "pygments_lexer": "r",
   "version": "3.6.1"
  }
 },
 "nbformat": 4,
 "nbformat_minor": 4
}
