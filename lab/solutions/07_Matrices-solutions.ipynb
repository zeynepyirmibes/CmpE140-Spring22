{
 "cells": [
  {
   "cell_type": "code",
   "execution_count": null,
   "metadata": {},
   "outputs": [],
   "source": [
    "options(jupyter.rich_display = F)"
   ]
  },
  {
   "cell_type": "markdown",
   "metadata": {},
   "source": [
    "# LAB 07: MATRICES\n",
    "\n",
    "## QUESTION 1\n",
    "\n",
    "For this question, we will use a pre-built dataset which contains the distances in km's between 81 province centers in Turkey.\n",
    "\n",
    "You first need to download the **distance2.rdata** file from the files directory in Binder and open it. In order to download it, you need to open the files directory, check the box on the left hand side of **distance2.rdata** and click download. When you open the rdata file in your computer you will be able to work with the dataset.\n",
    "\n",
    "Now write a function named **neighbour** that takes three arguments:\n",
    "\n",
    "- **city**: Either a city code as integer (i.e. 34) or city name (i.e. \"İstanbul\")\n",
    "- **radius**: Radius in km's within which we want to filter the neighbours of the city\n",
    "- **dist**: A distance matrix, default value of which is the **distance2** global object\n",
    "\n",
    "as such:\n",
    "\n",
    "```R\n",
    "neighbour(34, 150)\n",
    "\n",
    "  yalova  kocaeli    bursa tekirdag  sakarya  bilecik \n",
    "      47       78       91      123      127      128 \n",
    "```\n",
    "\n",
    "```R\n",
    "neighbour(city = \"Adana\", radius = 100)\n",
    "\n",
    "  mersin osmaniye \n",
    "      64       82 \n",
    "\n",
    "neighbour(\"İzmir\", 50)\n",
    "\n",
    "manisa \n",
    "    33 \n",
    "```\n",
    "\n",
    "*Hint: Be careful not to return the same city as its neighbor.*"
   ]
  },
  {
   "cell_type": "markdown",
   "metadata": {},
   "source": [
    "## SOLUTION 1"
   ]
  },
  {
   "cell_type": "code",
   "execution_count": null,
   "metadata": {},
   "outputs": [],
   "source": [
    "neighbour <- function(city, radius, dist = distance2)\n",
    "{\n",
    "    row <- dist[city,]\n",
    "    neighs <- row[row <= radius & row > 0]\n",
    "    return(sort(neighs))\n",
    "}\n",
    "\n",
    "neighbour(34, 150)\n",
    "\n",
    "neighbour(city = \"adana\", radius = 100)\n",
    "\n",
    "neighbour(\"izmir\", 50)"
   ]
  },
  {
   "cell_type": "markdown",
   "metadata": {},
   "source": [
    "## QUESTION 2\n",
    "\n",
    "Now using the same **distance2** object, write a function named **neigh_count** that takes two arguments:\n",
    "\n",
    "- **radius** in km's\n",
    "- a distance matrix called **dist** whose default value is the **distance2** object\n",
    "\n",
    "The function should return the count of neighbouring cities of each city within the specified radius, sorted in descending order.\n",
    "\n",
    "\n",
    "Try it with a radius of 100 kilometers:\n",
    "\n",
    "```R\n",
    "neigh_count(100)\n",
    "```\n",
    "\n",
    "Because of space limitations, we report only the first 3 elements of the output:\n",
    "\n",
    "```R\n",
    "bilecik        sakarya        bayburt\n",
    "      6              5              5\n",
    "```\n",
    "\n",
    "*Hint 1: Use the ``apply()`` function.*\n",
    "\n",
    "*Hint 2: Just like the previous question, number of neighbors must not include the cities themselves.*"
   ]
  },
  {
   "cell_type": "markdown",
   "metadata": {},
   "source": [
    "## SOLUTION 2"
   ]
  },
  {
   "cell_type": "code",
   "execution_count": null,
   "metadata": {},
   "outputs": [],
   "source": [
    "neigh_count <- function(radius, dist = distance2)\n",
    "{\n",
    "    counts <- apply(dist, 1, function(x) sum(x <= radius) - 1)\n",
    "    return(sort(counts, decreasing = T))\n",
    "}\n",
    "                    \n",
    "neigh_count(100)"
   ]
  },
  {
   "cell_type": "markdown",
   "metadata": {},
   "source": [
    "## QUESTION 3"
   ]
  },
  {
   "cell_type": "markdown",
   "metadata": {},
   "source": [
    "You are supposed to write a function named **square_donut** that takes two arguments **n** and **x** and does the following:\n",
    "\n",
    "- It should create a square matrix of size n.\n",
    "- The outer x by x squares of the matrix should be filled with 1's, while the square hole in the middle should be all zeros.\n",
    "- If **x** is greater than or equal to the half of **n**, it should return **\"edge too wide\"** and stop.\n",
    "\n",
    "For example:\n",
    "```R\n",
    "square_donut(7, 2)\n",
    "```\n",
    "returns\n",
    "```\n",
    "1\t1\t1\t1\t1\t1\t1\n",
    "1\t1\t1\t1\t1\t1\t1\n",
    "1\t1\t0\t0\t0\t1\t1\n",
    "1\t1\t0\t0\t0\t1\t1\n",
    "1\t1\t0\t0\t0\t1\t1\n",
    "1\t1\t1\t1\t1\t1\t1\n",
    "1\t1\t1\t1\t1\t1\t1\n",
    "```\n",
    "and\n",
    "\n",
    "```R\n",
    "square_donut(6, 3)\n",
    "```\n",
    "returns\n",
    "```\n",
    "'edge too wide'\n",
    "```"
   ]
  },
  {
   "cell_type": "markdown",
   "metadata": {},
   "source": [
    "## SOLUTION 3"
   ]
  },
  {
   "cell_type": "code",
   "execution_count": null,
   "metadata": {},
   "outputs": [],
   "source": [
    "square_donut <- function(n, x)\n",
    "{\n",
    "    if (x >= n / 2)\n",
    "    {\n",
    "        return(\"edge too wide\")\n",
    "    }\n",
    "    \n",
    "    mat1 <- matrix(1, nrow = n, ncol = n) # create matrix of 1's\n",
    "    startx <- x + 1 # start index of 0's\n",
    "    endx <- n - x # end index of 0's\n",
    "    mat1[startx:endx, startx:endx] <- 0 # create the hole of 0's\n",
    "    \n",
    "    return(mat1)\n",
    "}\n",
    "\n",
    "square_donut(7, 2)\n",
    "square_donut(6, 3)"
   ]
  },
  {
   "cell_type": "markdown",
   "metadata": {},
   "source": [
    "## QUESTION 4\n",
    "\n",
    "First, set the seed to 1.\n",
    "\n",
    "Now, write a function called **new_field** that takes two inputs, **size** and **density** and creates a square matrix of the given size. The created matrix represents a minefield. The cells should take only two values: if the value is 1, it means there is a mine there and If the value is 0, it means there is no mine. The default values of **size** and **density** should be 5 and 0.2 respectively.\n",
    "\n",
    "The function should fill the matrix according to **density** which represents the proportion of the cells with mines. When filling the cells, you should use **density** as the probability of any cell containing a mine.\n",
    "\n",
    "Your function should give the following output:\n",
    "\n",
    "```R\n",
    "field1 <- new_field()\n",
    "field1\n",
    "```\n",
    "```\n",
    "0    1    0    0    1\n",
    "0    1    0    0    0\n",
    "0    0    0    1    0\n",
    "1    0    0    0    0\n",
    "0    0    0    0    0\n",
    "\n",
    "```\n",
    "\n",
    "*Hint: You can use the ``sample()`` function when filling the cells.*"
   ]
  },
  {
   "cell_type": "markdown",
   "metadata": {},
   "source": [
    "## SOLUTION 4"
   ]
  },
  {
   "cell_type": "code",
   "execution_count": null,
   "metadata": {},
   "outputs": [],
   "source": [
    "set.seed(1)\n",
    "\n",
    "new_field <- function(size = 5, density = 0.2)\n",
    "{\n",
    "    vec <- sample(1:0,\n",
    "                  size^2,\n",
    "                  replace = T,\n",
    "                  prob = c(density, 1 - density))\n",
    "    mat <- matrix(vec, nrow = size)\n",
    "    return(mat)\n",
    "}\n",
    "\n",
    "\n",
    "field1 <- new_field()\n",
    "field1"
   ]
  },
  {
   "cell_type": "markdown",
   "metadata": {},
   "source": [
    "## QUESTION 5\n",
    "\n",
    "Now write a function called **minefield** that takes 3 arguments:\n",
    "\n",
    "- **rw**: An integer for the row index\n",
    "- **cl**: An integer for the column index\n",
    "- **field**: A matrix for the minefield. Default value is the field1 global object\n",
    "\n",
    "The function should first retrieve the value of the cell at the rw and cl indices.\n",
    "\n",
    "If the value is equal to 1, there is a hit, and the function should return 9 (that represents a hit)\n",
    "Else, there is a miss, then it should return the number of neighbouring hits. In other words, it should return the count of 1's in the neighbouring eight cells of the target.\n",
    "\n",
    "Some example outputs are given below:\n",
    "\n",
    "```R\n",
    "minefield(1,1)\n",
    "[1] 2\n",
    "\n",
    "minefield(2,2)\n",
    "[1] 9\n",
    "\n",
    "minefield(2,3)\n",
    "[1] 3\n",
    "```"
   ]
  },
  {
   "cell_type": "markdown",
   "metadata": {},
   "source": [
    "## SOLUTION 5"
   ]
  },
  {
   "cell_type": "code",
   "execution_count": null,
   "metadata": {},
   "outputs": [],
   "source": [
    "minefield <- function(rw, cl, field = field1)\n",
    "{\n",
    "    val <- field[rw, cl] # get the value\n",
    "        \n",
    "    if (val == 1) # there is a hit\n",
    "    {\n",
    "        return(9)\n",
    "    }\n",
    "    else # there is a miss\n",
    "    {\n",
    "        size <- nrow(field) # max index allowed\n",
    "\n",
    "        rws <- (-1):1 + rw # neighbouring row indices\n",
    "        rws <- rws[rws > 0 & rws <= size] # filter between 1 and size\n",
    "        \n",
    "        cls <- (-1):1 + cl  # neighbouring column indices\n",
    "        cls <- cls[cls > 0 & cls <= size] # filter between 1 and size\n",
    "        \n",
    "        sub <- field[rws, cls] # subset the neighours\n",
    "        return(sum(sub)) # return the sum of neighbouring hits\n",
    "    }\n",
    "}\n",
    "\n",
    "minefield(1,1)\n",
    "minefield(2,2)\n",
    "minefield(2,3)"
   ]
  },
  {
   "cell_type": "markdown",
   "metadata": {},
   "source": [
    "## QUESTION 6\n",
    "\n",
    "You are given a matrix generator function as such:\n",
    "\n",
    "```R\n",
    "matrix_gen <- function(maxx = 100, nr = 5, nc = 5)\n",
    "{\n",
    "    matrix(sample(maxx, nr * nc, replace = T), nrow = nr) \n",
    "}\n",
    "```\n",
    "\n",
    "Then write a function called **max_path** that will take a matrix **matt** as input and return the maximum sum to be attained when a path is selected from the first row to the end, in each step of which you can select any of the adjacent cells (straight down, down left, down right) on the next row.\n",
    "\n",
    "First set the seed to 1234.\n",
    "\n",
    "Now let's try our function with a 3x3 matrix whose cells can take values from 1 to 10. We can construct this matrix using the provided **matrix_gen** function as such:\n",
    "\n",
    "```R\n",
    "mat1 <- matrix_gen(10, 3, 3)\n",
    "mat1\n",
    "     [,1] [,2] [,3]\n",
    "[1,]   10    9    4\n",
    "[2,]    6    5    2\n",
    "[3,]    5    6    7\n",
    "```\n",
    "```R\n",
    "max_path(mat1)\n",
    "[1] 22\n",
    "```\n",
    "\n",
    "Let's try it one more time (you need to set the seed to 1234 again):\n",
    "\n",
    "```R\n",
    "mat2 <- matrix_gen(10, 5, 5)\n",
    "mat2\n",
    "     [,1] [,2] [,3] [,4] [,5]\n",
    "[1,]   10    6   10    4    3\n",
    "[2,]    6    4    6    5    4\n",
    "[3,]    5    2    4    8   10\n",
    "[4,]    9    7    8    4    5\n",
    "[5,]    5    6    4    8    2\n",
    "```\n",
    "\n",
    "```R\n",
    "max_path(mat2)\n",
    "[1] 40\n",
    "```\n",
    "\n",
    "*Hint: You may make use of ``pmax()`` or ``apply()`` functions.*"
   ]
  },
  {
   "cell_type": "markdown",
   "metadata": {},
   "source": [
    "## SOLUTION 6"
   ]
  },
  {
   "cell_type": "code",
   "execution_count": null,
   "metadata": {},
   "outputs": [],
   "source": [
    "matrix_gen <- function(maxx = 100, nr = 5, nc = 5)\n",
    "{\n",
    "    matrix(sample(maxx, nr * nc, replace = T), nrow = nr)\n",
    "}\n",
    "\n",
    "max_path <- function(matt)\n",
    "{\n",
    "    # we will track a vector length of which is equal to the number of the rows and\n",
    "    # that shows the max sums for each cell in the current row up to that row\n",
    "    # we take the first row as the initial value for this vector (the values show the maximum sum for each column up to that point!)\n",
    "    sums_vec <- matt[1,]\n",
    "\n",
    "    # get the dimensions of the original matrix. can also be done with dim()\n",
    "    nc <- ncol(matt)\n",
    "    nr <- nrow(matt)\n",
    "    \n",
    "    # across rows, starting from the second one\n",
    "    # on the first row the max values up to that row are the values themselves\n",
    "    for (roww in 2:nr) \n",
    "    {\n",
    "        # takes three vector:\n",
    "        # the original sums_vec, the sums_vec offset to left and offset to right\n",
    "        # this is done by adding a zero to left/trimming from right \n",
    "        # or adding a zero to right/trimming from left\n",
    "        # why? we can come to a cell from straight up, left up or right up\n",
    "        # so for each cell in the row we should the select the max of these three values\n",
    "        # pmax does it pairwise (or triple wise in this case)\n",
    "        # this is the critical part of the code\n",
    "        max_of_sums_vec <- pmax(c(0, sums_vec[-nc]), sums_vec, c(sums_vec[-1], 0))\n",
    "\n",
    "        # update the sums vec: add the maximum sums vector (that shows the maximum sums up to that row for each cell)\n",
    "        # to the current row\n",
    "        sums_vec <- matt[roww,] + max_of_sums_vec\n",
    "    }\n",
    "\n",
    "    # we have come to the last row\n",
    "    # now just take the maximum of the last sums_vec\n",
    "    maxval <- max(sums_vec)\n",
    "\n",
    "    return(maxval)\n",
    "\n",
    "}\n",
    "\n",
    "set.seed(1234)\n",
    "mat1 <- matrix_gen(10, 3, 3)\n",
    "mat1\n",
    "max_path(mat1)\n",
    "\n",
    "set.seed(1234)\n",
    "mat2 <- matrix_gen(10, 5, 5)\n",
    "mat2\n",
    "max_path(mat2)\n"
   ]
  }
 ],
 "metadata": {
  "kernelspec": {
   "display_name": "R",
   "language": "R",
   "name": "ir"
  },
  "language_info": {
   "codemirror_mode": "r",
   "file_extension": ".r",
   "mimetype": "text/x-r-source",
   "name": "R",
   "pygments_lexer": "r",
   "version": "3.6.1"
  },
  "toc": {
   "nav_menu": {},
   "number_sections": true,
   "sideBar": true,
   "skip_h1_title": false,
   "title_cell": "Table of Contents",
   "title_sidebar": "Contents",
   "toc_cell": false,
   "toc_position": {},
   "toc_section_display": "block",
   "toc_window_display": false
  },
  "varInspector": {
   "cols": {
    "lenName": 16,
    "lenType": 16,
    "lenVar": 40
   },
   "kernels_config": {
    "python": {
     "delete_cmd_postfix": "",
     "delete_cmd_prefix": "del ",
     "library": "var_list.py",
     "varRefreshCmd": "print(var_dic_list())"
    },
    "r": {
     "delete_cmd_postfix": ") ",
     "delete_cmd_prefix": "rm(",
     "library": "var_list.r",
     "varRefreshCmd": "cat(var_dic_list()) "
    }
   },
   "types_to_exclude": [
    "module",
    "function",
    "builtin_function_or_method",
    "instance",
    "_Feature"
   ],
   "window_display": false
  }
 },
 "nbformat": 4,
 "nbformat_minor": 2
}
