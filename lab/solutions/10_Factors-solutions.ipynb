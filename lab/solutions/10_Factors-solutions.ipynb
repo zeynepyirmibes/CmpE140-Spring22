{
 "cells": [
  {
   "cell_type": "markdown",
   "id": "4356da55",
   "metadata": {},
   "source": [
    "##  QUESTION 1"
   ]
  },
  {
   "cell_type": "markdown",
   "id": "0e1fd6c1",
   "metadata": {},
   "source": [
    "A chocolate store lists their 3 main types of chocolates: white chocolate, milk chocolate, dark chocolate. However, they wrote the same type of chocolate wth both uppercase and lowercase letters. They want to eliminate these differences in the levels.\n",
    "\n",
    "1) Copy this vector below containing the listed chocolate categories.\n",
    "\n",
    "```r \n",
    "chocolates <- c(\"white\"  ,\"milk\", \"white\", \"Dark\", \"Milk\", \"White\", \"dark\", \"white\", \"white\", \"milk\")\n",
    "```\n",
    "\n",
    "2) Convert the information of chocolate categories into a factor named **choco_factor**.\n",
    "\n",
    "3) Overwrite all the occurances of the types of chocolates starting with uppercase letters with lowercase versions.\n",
    "\n",
    "4) Delete the old levels of the categories starting with uppercase letters and see the resulting factor to be like the one below:\n",
    "\n",
    "```r \n",
    " [1] white milk  white dark  milk  white dark  white white milk \n",
    "Levels: dark milk white\n",
    "\n",
    "```"
   ]
  },
  {
   "cell_type": "markdown",
   "id": "03a9e6ef",
   "metadata": {},
   "source": [
    "## SOLUTION 1"
   ]
  },
  {
   "cell_type": "code",
   "execution_count": null,
   "id": "e801fb6d",
   "metadata": {},
   "outputs": [],
   "source": [
    "#1\n",
    "chocolates <- c(\"white\"  ,\"milk\", \"white\", \"Dark\", \"Milk\", \"White\", \"dark\", \"white\", \"white\", \"milk\")\n",
    "\n",
    "#2\n",
    "choco_factor <- factor(chocolates)\n",
    "\n",
    "#3\n",
    "choco_factor[choco_factor == \"White\"] <- \"white\"\n",
    "choco_factor[choco_factor == \"Milk\"] <- \"milk\"\n",
    "choco_factor[choco_factor == \"Dark\"] <- \"dark\"\n",
    "\n",
    "#4\n",
    "choco_factor <- droplevels(choco_factor)\n",
    "choco_factor"
   ]
  },
  {
   "cell_type": "markdown",
   "id": "3a500d57",
   "metadata": {},
   "source": [
    "##  QUESTION 2"
   ]
  },
  {
   "cell_type": "markdown",
   "id": "48ab5dfb",
   "metadata": {},
   "source": [
    "Nisan is an analyst at TempRecords, a company that observes the effects of climate change. The temperature fluctuated a lot in the past year. The average temperatures recorded in each month of the previous year are as follows:\n",
    "\n",
    "|Month|Average Temperature|\n",
    "|:--:|:--:|\n",
    "|January|8.2|\n",
    "|February|5.4|\n",
    "|March|6.6|\n",
    "|April|12.5|\n",
    "|May|18.2|\n",
    "|June|21.7|\n",
    "|July|25.2|\n",
    "|August|26.0|\n",
    "|September|14.8|\n",
    "|October|10.1|\n",
    "|November|11.5|\n",
    "|December|7.3|\n",
    "\n",
    "1) Create two vectors using the data provided in the table with the names **months** and **avg_temp**.\n",
    "\n",
    "\n",
    "2) Factorize average temperatures by using the **avg_temp** vector and name your factor **temp_factor**. Print the summary. \n",
    "\n",
    "Temperatures below 7 degrees should be assigned to **\"Low\"**, temperatures above 7 degrees and below 18 degrees should be assigned to **\"Medium\"** and temperatures above 18 degrees should be assigned to **\"High\"**.\n",
    "\n",
    "```r\n",
    "> summary(temp_factor)\n",
    "   Low Medium   High \n",
    "     2      6      4 \n",
    "```\n",
    "\n",
    "*Hint: You can use the function ``cut()``.*\n",
    "\n",
    "3) Assign the names of the months in each category to a list called **which_months** and print it:\n",
    "\n",
    "```r\n",
    "> which_months\n",
    "$Low\n",
    "[1] \"February\" \"March\"   \n",
    "\n",
    "$Medium\n",
    "[1] \"January\"   \"April\"     \"September\" \"October\"   \"November\"  \"December\" \n",
    "\n",
    "$High\n",
    "[1] \"May\"    \"June\"   \"July\"   \"August\"\n",
    "```"
   ]
  },
  {
   "cell_type": "markdown",
   "id": "2e932262",
   "metadata": {},
   "source": [
    "##  SOLUTION 2"
   ]
  },
  {
   "cell_type": "code",
   "execution_count": null,
   "id": "235a1682",
   "metadata": {},
   "outputs": [],
   "source": [
    "#1\n",
    "months <- c(\"January\", \"February\", \"March\", \"April\", \"May\", \"June\", \"July\", \"August\", \"September\", \"October\", \"November\", \"December\")\n",
    "avg_temp <- c(8.2, 5.4, 6.6, 12.5, 18.2, 21.7, 25.2, 26.0, 14.8, 10.1, 11.5, 7.3)\n",
    "\n",
    "#2\n",
    "temp_factor <- cut(avg_temp, breaks = c(0 ,7, 18, 35), labels = c(\"Low\", \"Medium\", \"High\"), ordered_result = TRUE)\n",
    "summary(temp_factor)\n",
    "\n",
    "#3\n",
    "which_months <- list()\n",
    "which_months[[1]] <- months[which(temp_factor == \"Low\")]\n",
    "which_months[[2]] <- months[which(temp_factor == \"Medium\")]\n",
    "which_months[[3]] <- months[which(temp_factor == \"High\")]\n",
    "names(which_months) <- c(\"Low\", \"Medium\", \"High\")\n",
    "which_months"
   ]
  },
  {
   "cell_type": "markdown",
   "id": "eb92578f",
   "metadata": {},
   "source": [
    "## QUESTION 3"
   ]
  },
  {
   "cell_type": "markdown",
   "id": "d92333ab",
   "metadata": {},
   "source": [
    "1) Create a factor **ex_fac** using the following information about the intensities of the daily exercises done by an individual in a week. \n",
    "\n",
    "| days      | intensity |\n",
    "|-----------|-----------|\n",
    "| monday    | intense   |\n",
    "| tuesday   | light     |\n",
    "| wednesday | none      |\n",
    "| thursday  | intense   |\n",
    "| friday    | light     |\n",
    "| saturday  | none      |\n",
    "| sunday    | none      |\n",
    "\n",
    "2) Create a function **weekly_ex** which takes a factor argument **f** that contains the intensity of the daily exercises that a person does in a week. Your function should find the days of the week that the individual works out (so the intensity must be \"intense\" or \"light\") and submit those days in a list's first element which has **\"well_done\"** as a name. Then it should find the days that the individual does not work out (so the intensity must be \"none\") and submit those in the list's second element that has **\"shame\"** as a name. Lastly, your function should replace the \"none\"s in the factor **f** with \"light\"s and submit the new factor in the last element of the list which has a name of **\"next_week\"** (remember doing the necessary arrangement in the levels of the factor). \n",
    "\n",
    "3) Try your function with **ex_fac**. Output must be as such:\n",
    "```r\n",
    "> weekly_ex(ex_fac)\n",
    "\n",
    "$well_done\n",
    "[1] \"monday\"   \"tuesday\"  \"thursday\" \"friday\"  \n",
    "\n",
    "$shame\n",
    "[1] \"wednesday\" \"saturday\"  \"sunday\"   \n",
    "\n",
    "$next_week\n",
    "[1] intense light   light   intense light   light   light  \n",
    "Levels: light intense\n",
    "\n",
    "```"
   ]
  },
  {
   "cell_type": "markdown",
   "id": "3bc43c07",
   "metadata": {},
   "source": [
    "## SOLUTION 3"
   ]
  },
  {
   "cell_type": "code",
   "execution_count": null,
   "id": "fe2be40d",
   "metadata": {},
   "outputs": [],
   "source": [
    "#1\n",
    "ex_fac <- factor(c(\"intense\", \"light\", \"none\", \"intense\", \"light\", \"none\", \"none\"))\n",
    "\n",
    "#2\n",
    "weekly_ex <- function(f)\n",
    "{\n",
    "  week <- c(\"monday\", \"tuesday\", \"wednesday\", \"thursday\", \"friday\", \"saturday\", \"sunday\")\n",
    "  well_done <- week[f != \"none\"]\n",
    "  shame <- week[f == \"none\"]\n",
    "  f[f == \"none\"] <- \"light\"\n",
    "  f <- droplevels(f)\n",
    "  thelist <- list(well_done = well_done, shame = shame, next_week = f)\n",
    "  return(thelist)\n",
    "}\n",
    "\n",
    "#3\n",
    "weekly_ex(ex_fac)"
   ]
  },
  {
   "cell_type": "markdown",
   "id": "2f76b6bb",
   "metadata": {},
   "source": [
    "## QUESTION 4"
   ]
  },
  {
   "cell_type": "markdown",
   "id": "6a75033a",
   "metadata": {},
   "source": [
    "Zoom would like to know the demographic of the people using their application for their studies in Turkey. They selected 8 people randomly, whose information is provided below:\n",
    "\n",
    "|Name|Age|Purpose|\n",
    "|:--:|:--:|:---:|\n",
    "|Cemal|55|Entertainment|\n",
    "|Derya|34|Class|\n",
    "|Hande|19|Class|\n",
    "|Mehmet|17|Entertainment|\n",
    "|Mine|27|Work|\n",
    "|Furkan|10|Class|\n",
    "|Helen|13|Class|\n",
    "|Fatma|63|Work|\n",
    "\n",
    "\n",
    "\n",
    "1) Vectorize the data in this table with the names **Name**, **Age**, and **Purpose**.\n",
    "\n",
    "\n",
    "2) Convert the **Age** vector into a factor and name it **Age_Factor**.\n",
    "\n",
    "\n",
    "3) Convert the **Purpose** vector into a factor and name it **Purpose_Factor**.\n",
    "\n",
    "\n",
    "4) Zoom wants to combine the students and workers using this app into a single category in order to compare people who are using Zoom professionally or for entertainment. Combine them under the name **Professionally**.\n",
    "\n",
    "\n",
    "5) Create a data frame using the factors you have created in the previous steps and name it **zoom**. Your data frame should look like this.\n",
    "\n",
    "```r\n",
    "> zoom\n",
    "\n",
    "    Name Age        Purpose\n",
    "1  Cemal  55  Entertainment\n",
    "2  Derya  34 Professionally\n",
    "3  Hande  19 Professionally\n",
    "4 Mehmet  17  Entertainment\n",
    "5   Mine  27 Professionally\n",
    "6 Furkan  10 Professionally\n",
    "7  Helen  13 Professionally\n",
    "8  Fatma  63 Professionally\n",
    "```\n",
    "\n",
    "\n",
    "6) Use the `summary()` function to show Zoom the general overview of the users.\n",
    "\n",
    "```r\n",
    "> summary(zoom)\n",
    "\n",
    "     Name                Age              Purpose \n",
    " Length:8           10     :1   Entertainment :2  \n",
    " Class :character   13     :1   Professionally:6  \n",
    " Mode  :character   17     :1                     \n",
    "                    19     :1                     \n",
    "                    27     :1                     \n",
    "                    34     :1                     \n",
    "                    (Other):2        \n",
    "```"
   ]
  },
  {
   "cell_type": "markdown",
   "id": "5487c7da",
   "metadata": {},
   "source": [
    "## SOLUTION 4"
   ]
  },
  {
   "cell_type": "code",
   "execution_count": null,
   "id": "e95c9816",
   "metadata": {},
   "outputs": [],
   "source": [
    "#1\n",
    "Name <- c(\"Cemal\", \"Derya\", \"Hande\", \"Mehmet\", \"Mine\", \"Furkan\", \"Helen\", \"Fatma\")\n",
    "Age <- c(55, 34, 19, 17, 27, 10, 13, 63)\n",
    "Purpose <- c(\"Entertainment\", \"Class\", \"Class\",\"Entertainment\", \"Work\", \"Class\", \"Class\", \"Work\")\n",
    "\n",
    "#2\n",
    "Age_Factor <- factor(Age)\n",
    "Age_Factor\n",
    "\n",
    "#3\n",
    "Purpose_Factor <- factor(Purpose)\n",
    "Purpose_Factor\n",
    "\n",
    "#4\n",
    "levels(Purpose_Factor) <- c(levels(Purpose_Factor), \"Professionally\")\n",
    "Purpose_Factor[Purpose_Factor == \"Work\"] <- c(\"Professionally\")\n",
    "Purpose_Factor[Purpose_Factor == \"Class\"] <- c(\"Professionally\")\n",
    "Purpose_Factor <- droplevels(Purpose_Factor)\n",
    "Purpose_Factor\n",
    "\n",
    "#5\n",
    "zoom <- data.frame(Name, Age = Age_Factor, Purpose = Purpose_Factor)\n",
    "zoom\n",
    "\n",
    "#6 \n",
    "summary(zoom)"
   ]
  }
 ],
 "metadata": {
  "kernelspec": {
   "display_name": "R",
   "language": "R",
   "name": "ir"
  },
  "language_info": {
   "codemirror_mode": "r",
   "file_extension": ".r",
   "mimetype": "text/x-r-source",
   "name": "R",
   "pygments_lexer": "r",
   "version": "3.6.1"
  }
 },
 "nbformat": 4,
 "nbformat_minor": 5
}
